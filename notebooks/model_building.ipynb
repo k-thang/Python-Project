{
 "cells": [
  {
   "cell_type": "code",
   "execution_count": 1,
   "metadata": {},
   "outputs": [],
   "source": [
    "# Import necessary libraries\n",
    "import pandas as pd\n",
    "import warnings\n",
    "import seaborn as sns\n",
    "import matplotlib.pyplot as plt\n",
    "import scipy\n",
    "import statsmodels.api as sm\n",
    "from sklearn.preprocessing import MinMaxScaler"
   ]
  },
  {
   "cell_type": "code",
   "execution_count": 5,
   "metadata": {},
   "outputs": [],
   "source": [
    "# Import the cleaned merged dataframe from Part 3 (joining_data notebook)\n",
    "data = pd.read_csv('/Users/kthan/Desktop/LHL-Python/Python-Project/data/merged_data_cleaned.csv')"
   ]
  },
  {
   "cell_type": "code",
   "execution_count": 6,
   "metadata": {},
   "outputs": [
    {
     "data": {
      "text/html": [
       "<div>\n",
       "<style scoped>\n",
       "    .dataframe tbody tr th:only-of-type {\n",
       "        vertical-align: middle;\n",
       "    }\n",
       "\n",
       "    .dataframe tbody tr th {\n",
       "        vertical-align: top;\n",
       "    }\n",
       "\n",
       "    .dataframe thead th {\n",
       "        text-align: right;\n",
       "    }\n",
       "</style>\n",
       "<table border=\"1\" class=\"dataframe\">\n",
       "  <thead>\n",
       "    <tr style=\"text-align: right;\">\n",
       "      <th></th>\n",
       "      <th>Station Name</th>\n",
       "      <th>Restaurant Name</th>\n",
       "      <th>Number of Bikes</th>\n",
       "      <th>Distance</th>\n",
       "      <th>Rating</th>\n",
       "      <th>Number of Reviews</th>\n",
       "    </tr>\n",
       "  </thead>\n",
       "  <tbody>\n",
       "    <tr>\n",
       "      <th>0</th>\n",
       "      <td>Queen St E / Woodward Ave</td>\n",
       "      <td>Jaclyn's</td>\n",
       "      <td>7</td>\n",
       "      <td>172.375134</td>\n",
       "      <td>4.5</td>\n",
       "      <td>16</td>\n",
       "    </tr>\n",
       "    <tr>\n",
       "      <th>1</th>\n",
       "      <td>Queen St E / Woodward Ave</td>\n",
       "      <td>Lake Inez</td>\n",
       "      <td>7</td>\n",
       "      <td>794.661955</td>\n",
       "      <td>4.5</td>\n",
       "      <td>94</td>\n",
       "    </tr>\n",
       "    <tr>\n",
       "      <th>2</th>\n",
       "      <td>Queen St E / Woodward Ave</td>\n",
       "      <td>Casa Di Giorgios</td>\n",
       "      <td>7</td>\n",
       "      <td>408.715725</td>\n",
       "      <td>4.0</td>\n",
       "      <td>75</td>\n",
       "    </tr>\n",
       "  </tbody>\n",
       "</table>\n",
       "</div>"
      ],
      "text/plain": [
       "                Station Name   Restaurant Name  Number of Bikes    Distance  \\\n",
       "0  Queen St E / Woodward Ave          Jaclyn's                7  172.375134   \n",
       "1  Queen St E / Woodward Ave         Lake Inez                7  794.661955   \n",
       "2  Queen St E / Woodward Ave  Casa Di Giorgios                7  408.715725   \n",
       "\n",
       "   Rating  Number of Reviews  \n",
       "0     4.5                 16  \n",
       "1     4.5                 94  \n",
       "2     4.0                 75  "
      ]
     },
     "execution_count": 6,
     "metadata": {},
     "output_type": "execute_result"
    }
   ],
   "source": [
    "# Check to ensure dataframe was properly imported\n",
    "data.head(3)"
   ]
  },
  {
   "cell_type": "markdown",
   "metadata": {},
   "source": [
    "# Build a regression model. <br>\n",
    "Goal: To investigate the relationship between the 'Number of Bikes' and the characteristics of the restaurants in that location.\n",
    "* Dependent Variable is the 'Number of Bikes'\n",
    "* Independent Variables are 'Distance', 'Rating' and 'Number of Reviews' \n",
    "* Using a linear regression model, we will be testing the following hypotheses: \n",
    "    * H<sub>a</sub>: there is a relationship between the 'Number of Bikes' and the characteristics of the surrounding restaurants\n",
    "    * H<sub>0</sub>: there is no relationship between the independent and dependent variables"
   ]
  },
  {
   "cell_type": "markdown",
   "metadata": {},
   "source": [
    "## Linear Regression Model"
   ]
  },
  {
   "cell_type": "code",
   "execution_count": 7,
   "metadata": {},
   "outputs": [],
   "source": [
    "# Define the y and X variables\n",
    "y = data[['Number of Bikes']]\n",
    "X = data[['Distance','Rating','Number of Reviews']]"
   ]
  },
  {
   "cell_type": "code",
   "execution_count": 8,
   "metadata": {},
   "outputs": [
    {
     "data": {
      "text/html": [
       "<div>\n",
       "<style scoped>\n",
       "    .dataframe tbody tr th:only-of-type {\n",
       "        vertical-align: middle;\n",
       "    }\n",
       "\n",
       "    .dataframe tbody tr th {\n",
       "        vertical-align: top;\n",
       "    }\n",
       "\n",
       "    .dataframe thead th {\n",
       "        text-align: right;\n",
       "    }\n",
       "</style>\n",
       "<table border=\"1\" class=\"dataframe\">\n",
       "  <thead>\n",
       "    <tr style=\"text-align: right;\">\n",
       "      <th></th>\n",
       "      <th>Distance</th>\n",
       "      <th>Rating</th>\n",
       "      <th>Number of Reviews</th>\n",
       "    </tr>\n",
       "  </thead>\n",
       "  <tbody>\n",
       "    <tr>\n",
       "      <th>0</th>\n",
       "      <td>0.122437</td>\n",
       "      <td>0.9</td>\n",
       "      <td>0.004604</td>\n",
       "    </tr>\n",
       "    <tr>\n",
       "      <th>1</th>\n",
       "      <td>0.568398</td>\n",
       "      <td>0.9</td>\n",
       "      <td>0.027050</td>\n",
       "    </tr>\n",
       "  </tbody>\n",
       "</table>\n",
       "</div>"
      ],
      "text/plain": [
       "   Distance  Rating  Number of Reviews\n",
       "0  0.122437     0.9           0.004604\n",
       "1  0.568398     0.9           0.027050"
      ]
     },
     "execution_count": 8,
     "metadata": {},
     "output_type": "execute_result"
    }
   ],
   "source": [
    "# MinMaxScaler is used to scale the X variables to ensure an 'apples to apples' comparison\n",
    "scaler = MinMaxScaler()\n",
    "X_scaled = pd.DataFrame(scaler.fit_transform(X), columns=X.columns)\n",
    "X_scaled.head(2)"
   ]
  },
  {
   "cell_type": "code",
   "execution_count": 9,
   "metadata": {},
   "outputs": [
    {
     "data": {
      "text/html": [
       "<div>\n",
       "<style scoped>\n",
       "    .dataframe tbody tr th:only-of-type {\n",
       "        vertical-align: middle;\n",
       "    }\n",
       "\n",
       "    .dataframe tbody tr th {\n",
       "        vertical-align: top;\n",
       "    }\n",
       "\n",
       "    .dataframe thead th {\n",
       "        text-align: right;\n",
       "    }\n",
       "</style>\n",
       "<table border=\"1\" class=\"dataframe\">\n",
       "  <thead>\n",
       "    <tr style=\"text-align: right;\">\n",
       "      <th></th>\n",
       "      <th>const</th>\n",
       "      <th>Distance</th>\n",
       "      <th>Rating</th>\n",
       "      <th>Number of Reviews</th>\n",
       "    </tr>\n",
       "  </thead>\n",
       "  <tbody>\n",
       "    <tr>\n",
       "      <th>0</th>\n",
       "      <td>1.0</td>\n",
       "      <td>0.122437</td>\n",
       "      <td>0.9</td>\n",
       "      <td>0.004604</td>\n",
       "    </tr>\n",
       "    <tr>\n",
       "      <th>1</th>\n",
       "      <td>1.0</td>\n",
       "      <td>0.568398</td>\n",
       "      <td>0.9</td>\n",
       "      <td>0.027050</td>\n",
       "    </tr>\n",
       "  </tbody>\n",
       "</table>\n",
       "</div>"
      ],
      "text/plain": [
       "   const  Distance  Rating  Number of Reviews\n",
       "0    1.0  0.122437     0.9           0.004604\n",
       "1    1.0  0.568398     0.9           0.027050"
      ]
     },
     "execution_count": 9,
     "metadata": {},
     "output_type": "execute_result"
    }
   ],
   "source": [
    "# Add a constant which is a column of 1s so the model will contain an intercept\n",
    "X_scaled_constant = sm.add_constant(X_scaled)\n",
    "X_scaled_constant.head(2)"
   ]
  },
  {
   "cell_type": "code",
   "execution_count": 10,
   "metadata": {},
   "outputs": [
    {
     "name": "stdout",
     "output_type": "stream",
     "text": [
      "                            OLS Regression Results                            \n",
      "==============================================================================\n",
      "Dep. Variable:        Number of Bikes   R-squared:                       0.002\n",
      "Model:                            OLS   Adj. R-squared:                  0.002\n",
      "Method:                 Least Squares   F-statistic:                     17.03\n",
      "Date:                Wed, 30 Aug 2023   Prob (F-statistic):           4.85e-11\n",
      "Time:                        15:45:17   Log-Likelihood:                -69897.\n",
      "No. Observations:               20741   AIC:                         1.398e+05\n",
      "Df Residuals:                   20737   BIC:                         1.398e+05\n",
      "Df Model:                           3                                         \n",
      "Covariance Type:            nonrobust                                         \n",
      "=====================================================================================\n",
      "                        coef    std err          t      P>|t|      [0.025      0.975]\n",
      "-------------------------------------------------------------------------------------\n",
      "const                 8.1829      0.220     37.201      0.000       7.752       8.614\n",
      "Distance              1.4139      0.225      6.292      0.000       0.973       1.854\n",
      "Rating               -0.6466      0.253     -2.559      0.011      -1.142      -0.151\n",
      "Number of Reviews    -1.4784      0.651     -2.270      0.023      -2.755      -0.202\n",
      "==============================================================================\n",
      "Omnibus:                     3065.062   Durbin-Watson:                   0.044\n",
      "Prob(Omnibus):                  0.000   Jarque-Bera (JB):             5037.998\n",
      "Skew:                           1.004   Prob(JB):                         0.00\n",
      "Kurtosis:                       4.341   Cond. No.                         17.8\n",
      "==============================================================================\n",
      "\n",
      "Notes:\n",
      "[1] Standard Errors assume that the covariance matrix of the errors is correctly specified.\n"
     ]
    }
   ],
   "source": [
    "# Run Regression on defined y and X variables above\n",
    "regression = sm.OLS(y, X_scaled_constant) \n",
    "model = regression.fit()\n",
    "result = model.summary()\n",
    "print(result)"
   ]
  },
  {
   "cell_type": "markdown",
   "metadata": {},
   "source": [
    "### Provide an interpretation of the results. \n",
    "- **R-squared/Adj. R-squared**: Both results are 0.002 which indicates that 0.2% of the variance in the target variable (Number of Bikes) can be explained by the independent variables (Distance, Rating and Number of Reviews).\n",
    "- **P>|t|**: All p-values are less than 0.05 which indicates that each independent variable is statistically significant. Therefore, each independent variable does impact the 'Number of Bikes' and backwards elimination is not required.\n",
    "- Despite having statistically significant p-values, the model is not effective at explaining the patterns in the data."
   ]
  },
  {
   "cell_type": "markdown",
   "metadata": {},
   "source": [
    "### Residual plots\n",
    "Many linear regression assumptions can be examined by looking at the residuals; we will test the Normality and Homoscedasticity."
   ]
  },
  {
   "cell_type": "code",
   "execution_count": null,
   "metadata": {},
   "outputs": [
    {
     "name": "stdout",
     "output_type": "stream",
     "text": [
      "0       -0.767191\n",
      "1       -1.364546\n",
      "2       -1.046228\n",
      "3       -0.904206\n",
      "4       -1.360799\n",
      "           ...   \n",
      "20736   -2.823146\n",
      "20737   -2.792683\n",
      "20738   -2.696005\n",
      "20739   -2.872018\n",
      "20740   -2.437242\n",
      "Length: 20741, dtype: float64\n"
     ]
    }
   ],
   "source": [
    "# Extract the residuals data from the fit model by using the attribute 'resid'\n",
    "residuals = model.resid\n",
    "print(residuals)"
   ]
  },
  {
   "cell_type": "markdown",
   "metadata": {},
   "source": [
    "#### Normality\n",
    "* The null hypothesis states that the data is drawn from a normal distribution. <br>\n",
    "* Using the residuals, the normality assumption will be checked via a histogram and the Shapiro-Wilk Test.\n",
    "* The results from the tests below indicate that data is not drawn from a normal distribution and we should reject the null hypothesis."
   ]
  },
  {
   "cell_type": "code",
   "execution_count": 23,
   "metadata": {},
   "outputs": [
    {
     "data": {
      "image/png": "[encoded data removed]",
      "text/plain": [
       "<Figure size 640x480 with 1 Axes>"
      ]
     },
     "metadata": {},
     "output_type": "display_data"
    },
    {
     "data": {
      "text/plain": [
       "<Figure size 640x480 with 0 Axes>"
      ]
     },
     "metadata": {},
     "output_type": "display_data"
    }
   ],
   "source": [
    "# Test normality using a histogram\n",
    "histogram_residuals = sns.histplot(data=residuals, kde=True).set(title='Normality Test')\n",
    "plt.show()\n",
    "\n",
    "# Save plot in images folder to present to stakeholders\n",
    "plt.savefig('/Users/kthan/Desktop/LHL-Python/Python-Project/images/histogram_residuals.png')"
   ]
  },
  {
   "cell_type": "code",
   "execution_count": 26,
   "metadata": {},
   "outputs": [
    {
     "data": {
      "text/plain": [
       "ShapiroResult(statistic=0.9207689166069031, pvalue=0.0)"
      ]
     },
     "execution_count": 26,
     "metadata": {},
     "output_type": "execute_result"
    }
   ],
   "source": [
    "# Test normality using the Shapiro-Wilk Test\n",
    "scipy.stats.shapiro(residuals)"
   ]
  },
  {
   "cell_type": "markdown",
   "metadata": {},
   "source": [
    "#### Homoscedasticity\n",
    "* The null hypothesis states that homoscedasticity is present (the residuals are distributed with equal variance). <br>\n",
    "* We can visually check the homoscedasticity assumption by plotting the residuals vs the 'Number of Bikes'. <br>\n",
    "* The results from the scatterplot below indicate that homoscedasticity is not present as the residuals are not distributed with equal variance therefore, we should reject the null hypothesis."
   ]
  },
  {
   "cell_type": "code",
   "execution_count": 18,
   "metadata": {},
   "outputs": [
    {
     "data": {
      "image/png": "[encoded data removed]",
      "text/plain": [
       "<Figure size 640x480 with 1 Axes>"
      ]
     },
     "metadata": {},
     "output_type": "display_data"
    }
   ],
   "source": [
    "# Test homoscedasticity using a scatter plot\n",
    "ax = sns.scatterplot(x=data['Number of Bikes'], y=residuals)\n",
    "ax.set(title='Homoscedasticity Test') # inserts title\n",
    "ax.axhline(0) # inserts horizontal line at 0\n",
    "\n",
    "\n",
    "# Save plot in images folder to present to stakeholders\n",
    "plt.savefig('/Users/kthan/Desktop/LHL-Python/Python-Project/images/scatterplot_residuals.png')"
   ]
  },
  {
   "cell_type": "markdown",
   "metadata": {},
   "source": [
    "### Conclusions\n",
    "* Based on the model and residual plots, we can reject the null hypothesis however, the data does not provide sufficient evidence to accept the alternative hypothesis. Despite the statistically significant p-values, the low Adj. R-Squared (0.2%) means that we cannot use the model to predict future trends or outcomes. Further exploration is required before the alternative hypothesis can be accepted.\n",
    "* If given more time, improvements to the model would include:\n",
    "    * Feature Selection: adding more independent variables to the model\n",
    "    * Feature Encoding: converting qualitative variables to a quantitative values (e.g. price)\n",
    "    * Feature Engineering: manipulating variables in the dataset to use as features in the model (e.g. Avg Rating, Avg Distance or Number of Restaurants)\n",
    "* Although the model doesn’t have predictive power, the data itself yields interesting prescriptive insights for tourists/locals in Toronto. For example:\n",
    "    * The data can return the average restaurant rating within 1,000 meters of a specified bike station. As a result, the users of the data can select/avoid bike stations according to the likelihood of finding a good restaurant nearby. \n",
    "    * The data can find the top restaurants in Toronto according to their rating and number of reviews which would help users with choosing a highly rated and reviewed restaurant.\n",
    "    * The data indicates that most bike stations have 0 bikes available which indicates that city bike users should research their chosen bike station to ensure there will be a bike available for use.\n"
   ]
  }
 ],
 "metadata": {
  "kernelspec": {
   "display_name": "Python 3",
   "language": "python",
   "name": "python3"
  },
  "language_info": {
   "codemirror_mode": {
    "name": "ipython",
    "version": 3
   },
   "file_extension": ".py",
   "mimetype": "text/x-python",
   "name": "python",
   "nbconvert_exporter": "python",
   "pygments_lexer": "ipython3",
   "version": "3.9.17"
  }
 },
 "nbformat": 4,
 "nbformat_minor": 4
}
